{
 "cells": [
  {
   "cell_type": "code",
   "execution_count": 1,
   "id": "0ff0aa69-8cbf-4bbb-9e31-25a26916cd27",
   "metadata": {},
   "outputs": [],
   "source": [
    "# Importing the libraries\n",
    "import numpy as np\n",
    "import pandas as pd"
   ]
  },
  {
   "cell_type": "code",
   "execution_count": 2,
   "id": "bc05e7af-caee-4f3c-ad6b-4c2f23c6495a",
   "metadata": {},
   "outputs": [],
   "source": [
    "# Importing the dataset\n",
    "dataset = pd.read_csv('Mall_Customers.csv')\n",
    "X = dataset.iloc[:, [3, 4]].values"
   ]
  },
  {
   "cell_type": "code",
   "execution_count": 3,
   "id": "2046bcee-3958-4219-8ccc-de402e454171",
   "metadata": {},
   "outputs": [
    {
     "name": "stdout",
     "output_type": "stream",
     "text": [
      "\n",
      "Shape of the data X (Number of samples, Number of features):\n",
      "(200, 2)\n"
     ]
    }
   ],
   "source": [
    "print(\"\\nShape of the data X (Number of samples, Number of features):\")\n",
    "print(X.shape)"
   ]
  },
  {
   "cell_type": "code",
   "execution_count": 4,
   "id": "d641cff9-fe62-4815-aec5-d925427d0bc8",
   "metadata": {},
   "outputs": [
    {
     "name": "stdout",
     "output_type": "stream",
     "text": [
      "\n",
      "First few rows of the feature matrix X:\n",
      "[[15 39]\n",
      " [15 81]\n",
      " [16  6]\n",
      " [16 77]\n",
      " [17 40]]\n"
     ]
    }
   ],
   "source": [
    "print(\"\\nFirst few rows of the feature matrix X:\")\n",
    "print(X[:5])"
   ]
  },
  {
   "cell_type": "code",
   "execution_count": 5,
   "id": "a77181ad-11cb-4f92-bbf4-3b2a63c0441e",
   "metadata": {},
   "outputs": [],
   "source": [
    "# Using the elbow method to find the optimal number of clusters\n",
    "from sklearn.cluster import DBSCAN\n",
    "dbscan=DBSCAN(eps=3,min_samples=4)\n"
   ]
  },
  {
   "cell_type": "code",
   "execution_count": 6,
   "id": "74bc9a2d-8699-46bf-816e-9009c1ff9fee",
   "metadata": {},
   "outputs": [],
   "source": [
    "# Fitting the model\n",
    "\n",
    "model=dbscan.fit(X)\n",
    "\n",
    "labels=model.labels_\n"
   ]
  },
  {
   "cell_type": "code",
   "execution_count": 7,
   "id": "e4c84ab6-69f2-47be-aae8-eb3230550e96",
   "metadata": {},
   "outputs": [
    {
     "name": "stdout",
     "output_type": "stream",
     "text": [
      "\n",
      "Cluster labels assigned by DBSCAN:\n",
      "[-1 -1 -1 -1 -1 -1 -1 -1 -1 -1 -1 -1 -1 -1 -1 -1 -1 -1 -1 -1 -1 -1 -1 -1\n",
      " -1 -1 -1 -1 -1 -1 -1 -1 -1 -1 -1 -1 -1 -1 -1 -1 -1 -1 -1 -1 -1 -1 -1 -1\n",
      " -1 -1 -1 -1 -1 -1 -1 -1  0  0  0  0 -1 -1  0 -1  0 -1  0  0 -1  0 -1 -1\n",
      "  0 -1  1  1  1  1  1  1  1  1  1  1  1  1  1  1 -1  2  1  2  2  2  2  2\n",
      "  2  2  2  2  2  2  2  2  2  2  2  2  2  2  2  2  2  2  2  2  2  3  2  3\n",
      "  3 -1  3 -1 -1  4 -1 -1 -1  4  5  4 -1  4  5 -1  5  4 -1  4  5 -1 -1  6\n",
      " -1 -1 -1  7 -1  6 -1  6 -1  7 -1  6 -1  7 -1  7 -1 -1 -1 -1 -1 -1 -1 -1\n",
      " -1 -1  8 -1  8 -1  8 -1  8 -1 -1 -1 -1 -1 -1 -1 -1 -1 -1 -1 -1 -1 -1 -1\n",
      " -1 -1 -1 -1 -1 -1 -1 -1]\n"
     ]
    }
   ],
   "source": [
    "print(\"\\nCluster labels assigned by DBSCAN:\")\n",
    "print(labels)"
   ]
  },
  {
   "cell_type": "code",
   "execution_count": 8,
   "id": "da525af9-83d9-4dd6-957a-269a49009ff4",
   "metadata": {},
   "outputs": [],
   "source": [
    "from sklearn import metrics\n",
    "\n",
    "#identifying the points which makes up our core points\n",
    "sample_cores=np.zeros_like(labels,dtype=bool)"
   ]
  },
  {
   "cell_type": "code",
   "execution_count": 9,
   "id": "2d919a77-5748-4019-ac49-4afd8ecb2d46",
   "metadata": {},
   "outputs": [],
   "source": [
    "sample_cores[dbscan.core_sample_indices_]=True"
   ]
  },
  {
   "cell_type": "code",
   "execution_count": 10,
   "id": "504f1dff-8bd5-4cf4-8a7f-4c6d6129fc55",
   "metadata": {},
   "outputs": [
    {
     "name": "stdout",
     "output_type": "stream",
     "text": [
      "\n",
      "Core points (True means core, False means non-core):\n",
      "[False False False False False False False False False False False False\n",
      " False False False False False False False False False False False False\n",
      " False False False False False False False False False False False False\n",
      " False False False False False False False False False False False False\n",
      " False False False False False False False False False False  True  True\n",
      " False False  True False  True False  True  True False  True False False\n",
      "  True False  True  True  True  True  True False  True  True False  True\n",
      " False  True False  True False False False  True  True  True  True  True\n",
      "  True  True  True  True  True  True False  True  True  True  True  True\n",
      "  True  True  True  True  True  True  True  True  True False False  True\n",
      " False False False False False False False False False  True False  True\n",
      " False False False False  True  True False False False False False False\n",
      " False False False False False False False  True False  True False  True\n",
      " False False False False False False False False False False False False\n",
      " False False  True False False False False False False False False False\n",
      " False False False False False False False False False False False False\n",
      " False False False False False False False False]\n"
     ]
    }
   ],
   "source": [
    "# Printing which points are core points\n",
    "print(\"\\nCore points (True means core, False means non-core):\")\n",
    "print(sample_cores)"
   ]
  },
  {
   "cell_type": "code",
   "execution_count": 11,
   "id": "c5c2fdeb-996c-46be-97f5-57bbc198838c",
   "metadata": {},
   "outputs": [
    {
     "name": "stdout",
     "output_type": "stream",
     "text": [
      "\n",
      "Number of clusters (excluding noise points):\n",
      "9\n"
     ]
    }
   ],
   "source": [
    "\n",
    "# Calculating the number of clusters (excluding noise, labeled as -1)\n",
    "n_clusters = len(set(labels)) - (1 if -1 in labels else 0)\n",
    "print(\"\\nNumber of clusters (excluding noise points):\")\n",
    "print(n_clusters)\n",
    "\n"
   ]
  },
  {
   "cell_type": "code",
   "execution_count": 12,
   "id": "b54082c1-ca2e-4f76-a83c-eb36ea783f16",
   "metadata": {},
   "outputs": [
    {
     "name": "stdout",
     "output_type": "stream",
     "text": [
      "\n",
      "Silhouette Score:  -0.1908319132560097\n"
     ]
    }
   ],
   "source": [
    "# Printing silhouette score to evaluate clustering quality\n",
    "silhouette_score = metrics.silhouette_score(X, labels)\n",
    "print(\"\\nSilhouette Score: \", silhouette_score)"
   ]
  },
  {
   "cell_type": "code",
   "execution_count": 13,
   "id": "71729d43-6a2c-44de-bc19-55ea72069424",
   "metadata": {},
   "outputs": [
    {
     "name": "stdout",
     "output_type": "stream",
     "text": [
      "A negative silhouette score suggests that some points might be in the wrong clusters.\n"
     ]
    }
   ],
   "source": [
    "# Explanation of silhouette score:\n",
    "if silhouette_score > 0:\n",
    "    print(\"A higher silhouette score indicates better-defined clusters.\")\n",
    "else:\n",
    "    print(\"A negative silhouette score suggests that some points might be in the wrong clusters.\")"
   ]
  }
 ],
 "metadata": {
  "kernelspec": {
   "display_name": "Python 3 (ipykernel)",
   "language": "python",
   "name": "python3"
  },
  "language_info": {
   "codemirror_mode": {
    "name": "ipython",
    "version": 3
   },
   "file_extension": ".py",
   "mimetype": "text/x-python",
   "name": "python",
   "nbconvert_exporter": "python",
   "pygments_lexer": "ipython3",
   "version": "3.13.4"
  }
 },
 "nbformat": 4,
 "nbformat_minor": 5
}
