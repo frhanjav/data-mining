{
 "cells": [
  {
   "cell_type": "markdown",
   "id": "2454b1d1-fab7-45d6-ab0d-5ea4dfa11f05",
   "metadata": {},
   "source": [
    "#### Introduction\n",
    "The Eclat (Equivalence Class Clustering and bottom-up Lattice Traversal) algorithm is a popular method for frequent itemset mining in large transactional databases. Unlike the Apriori algorithm, which uses a breadth-first search strategy, Eclat uses a depth-first search strategy to discover frequent itemsets.\n",
    "\n",
    "#### Key Points:\n",
    "###### Depth-First Search: Eclat uses a depth-first search approach, making it efficient for mining large datasets with many transactions.\n",
    "###### Intersection-based: The algorithm relies on the intersection of transaction IDs (TID) lists to find frequent itemsets.\n",
    "###### Memory Usage: Eclat can be more memory-intensive compared to Apriori because it requires keeping track of transaction IDs for each itemset."
   ]
  },
  {
   "cell_type": "markdown",
   "id": "f0f9e957-cc8e-49a3-9580-9c633d45f4f6",
   "metadata": {},
   "source": [
    "#### Scenarios where the Eclat Algorithm is Beneficial\n",
    "Eclat is particularly useful in scenarios where:\n",
    "\n",
    "###### Large Datasets: The dataset contains a large number of transactions, making depth-first search more efficient.\n",
    "###### Sparse Data: The data is sparse, meaning that there are many items but only a few transactions contain a particular item.\n",
    "###### Frequent Itemsets Needed: The goal is to find frequent itemsets without generating candidate sets iteratively as in Apriori."
   ]
  },
  {
   "cell_type": "markdown",
   "id": "4475b407-d9fc-4ca9-8647-c7d28671712c",
   "metadata": {},
   "source": [
    "#### Methods for Implementing the Eclat Algorithm\n",
    "The Eclat algorithm can be implemented using the following steps:\n",
    "\n",
    "Transform the Dataset: Convert the transactional database into a vertical data format, where each item is associated with a list of transaction IDs.\n",
    "Depth-First Search: Perform a depth-first search on the vertical data to find frequent itemsets by intersecting TID lists.\n",
    "Pruning: Use support thresholds to prune infrequent itemsets and optimize the search process."
   ]
  },
  {
   "cell_type": "markdown",
   "id": "b6e53d60-5d4f-4b66-b13c-b2e07384771c",
   "metadata": {},
   "source": [
    "## Let’s now introduce an example use case to make the topic a little bit more practical and applied. In this article, we will take a small dataset of transactions of a night store. For each transaction, we simply have a list of products."
   ]
  },
  {
   "cell_type": "markdown",
   "id": "17d99626-0c66-4f6f-a9e9-7d5b15ba1cc1",
   "metadata": {},
   "source": [
    "!pip install pyECLAT"
   ]
  },
  {
   "cell_type": "code",
   "execution_count": 1,
   "id": "b8db72d8-222c-4bc1-84f7-e01312d65218",
   "metadata": {},
   "outputs": [],
   "source": [
    "# store the item sets as lists of strings in a list\n",
    "transactions = [\n",
    "    ['beer', 'wine', 'cheese'],\n",
    "    ['beer', 'potato chips'],\n",
    "    ['eggs', 'flower', 'butter', 'cheese'],\n",
    "    ['eggs', 'flower', 'butter', 'beer', 'potato chips'],\n",
    "    ['wine', 'cheese'],\n",
    "    ['potato chips'],\n",
    "    ['eggs', 'flower', 'butter', 'wine', 'cheese'],\n",
    "    ['eggs', 'flower', 'butter', 'beer', 'potato chips'],\n",
    "    ['wine', 'beer'],\n",
    "    ['beer', 'potato chips'],\n",
    "    ['butter', 'eggs'],\n",
    "    ['beer', 'potato chips'],\n",
    "    ['flower', 'eggs'],\n",
    "    ['beer', 'potato chips'],\n",
    "    ['eggs', 'flower', 'butter', 'wine', 'cheese'],\n",
    "    ['beer', 'wine', 'potato chips', 'cheese'],\n",
    "    ['wine', 'cheese'],\n",
    "    ['beer', 'potato chips'],\n",
    "    ['wine', 'cheese'],\n",
    "    ['beer', 'potato chips']\n",
    "]"
   ]
  },
  {
   "cell_type": "markdown",
   "id": "37e221e9-66bf-4510-b8b5-16baaf2f96da",
   "metadata": {},
   "source": [
    "###### The pyECLAT library takes a data frame as input. You can simply convert your list of transactions into a data frame and the pyECLAT package will take care of the rest. It is not a problem that you have a lot of None values in the resulting data frame"
   ]
  },
  {
   "cell_type": "code",
   "execution_count": 2,
   "id": "5f6e0522-8b63-421c-9728-e473d4948adc",
   "metadata": {},
   "outputs": [
    {
     "data": {
      "text/html": [
       "<div>\n",
       "<style scoped>\n",
       "    .dataframe tbody tr th:only-of-type {\n",
       "        vertical-align: middle;\n",
       "    }\n",
       "\n",
       "    .dataframe tbody tr th {\n",
       "        vertical-align: top;\n",
       "    }\n",
       "\n",
       "    .dataframe thead th {\n",
       "        text-align: right;\n",
       "    }\n",
       "</style>\n",
       "<table border=\"1\" class=\"dataframe\">\n",
       "  <thead>\n",
       "    <tr style=\"text-align: right;\">\n",
       "      <th></th>\n",
       "      <th>0</th>\n",
       "      <th>1</th>\n",
       "      <th>2</th>\n",
       "      <th>3</th>\n",
       "      <th>4</th>\n",
       "    </tr>\n",
       "  </thead>\n",
       "  <tbody>\n",
       "    <tr>\n",
       "      <th>0</th>\n",
       "      <td>beer</td>\n",
       "      <td>wine</td>\n",
       "      <td>cheese</td>\n",
       "      <td>None</td>\n",
       "      <td>None</td>\n",
       "    </tr>\n",
       "    <tr>\n",
       "      <th>1</th>\n",
       "      <td>beer</td>\n",
       "      <td>potato chips</td>\n",
       "      <td>None</td>\n",
       "      <td>None</td>\n",
       "      <td>None</td>\n",
       "    </tr>\n",
       "    <tr>\n",
       "      <th>2</th>\n",
       "      <td>eggs</td>\n",
       "      <td>flower</td>\n",
       "      <td>butter</td>\n",
       "      <td>cheese</td>\n",
       "      <td>None</td>\n",
       "    </tr>\n",
       "    <tr>\n",
       "      <th>3</th>\n",
       "      <td>eggs</td>\n",
       "      <td>flower</td>\n",
       "      <td>butter</td>\n",
       "      <td>beer</td>\n",
       "      <td>potato chips</td>\n",
       "    </tr>\n",
       "    <tr>\n",
       "      <th>4</th>\n",
       "      <td>wine</td>\n",
       "      <td>cheese</td>\n",
       "      <td>None</td>\n",
       "      <td>None</td>\n",
       "      <td>None</td>\n",
       "    </tr>\n",
       "    <tr>\n",
       "      <th>5</th>\n",
       "      <td>potato chips</td>\n",
       "      <td>None</td>\n",
       "      <td>None</td>\n",
       "      <td>None</td>\n",
       "      <td>None</td>\n",
       "    </tr>\n",
       "    <tr>\n",
       "      <th>6</th>\n",
       "      <td>eggs</td>\n",
       "      <td>flower</td>\n",
       "      <td>butter</td>\n",
       "      <td>wine</td>\n",
       "      <td>cheese</td>\n",
       "    </tr>\n",
       "    <tr>\n",
       "      <th>7</th>\n",
       "      <td>eggs</td>\n",
       "      <td>flower</td>\n",
       "      <td>butter</td>\n",
       "      <td>beer</td>\n",
       "      <td>potato chips</td>\n",
       "    </tr>\n",
       "    <tr>\n",
       "      <th>8</th>\n",
       "      <td>wine</td>\n",
       "      <td>beer</td>\n",
       "      <td>None</td>\n",
       "      <td>None</td>\n",
       "      <td>None</td>\n",
       "    </tr>\n",
       "    <tr>\n",
       "      <th>9</th>\n",
       "      <td>beer</td>\n",
       "      <td>potato chips</td>\n",
       "      <td>None</td>\n",
       "      <td>None</td>\n",
       "      <td>None</td>\n",
       "    </tr>\n",
       "    <tr>\n",
       "      <th>10</th>\n",
       "      <td>butter</td>\n",
       "      <td>eggs</td>\n",
       "      <td>None</td>\n",
       "      <td>None</td>\n",
       "      <td>None</td>\n",
       "    </tr>\n",
       "    <tr>\n",
       "      <th>11</th>\n",
       "      <td>beer</td>\n",
       "      <td>potato chips</td>\n",
       "      <td>None</td>\n",
       "      <td>None</td>\n",
       "      <td>None</td>\n",
       "    </tr>\n",
       "    <tr>\n",
       "      <th>12</th>\n",
       "      <td>flower</td>\n",
       "      <td>eggs</td>\n",
       "      <td>None</td>\n",
       "      <td>None</td>\n",
       "      <td>None</td>\n",
       "    </tr>\n",
       "    <tr>\n",
       "      <th>13</th>\n",
       "      <td>beer</td>\n",
       "      <td>potato chips</td>\n",
       "      <td>None</td>\n",
       "      <td>None</td>\n",
       "      <td>None</td>\n",
       "    </tr>\n",
       "    <tr>\n",
       "      <th>14</th>\n",
       "      <td>eggs</td>\n",
       "      <td>flower</td>\n",
       "      <td>butter</td>\n",
       "      <td>wine</td>\n",
       "      <td>cheese</td>\n",
       "    </tr>\n",
       "    <tr>\n",
       "      <th>15</th>\n",
       "      <td>beer</td>\n",
       "      <td>wine</td>\n",
       "      <td>potato chips</td>\n",
       "      <td>cheese</td>\n",
       "      <td>None</td>\n",
       "    </tr>\n",
       "    <tr>\n",
       "      <th>16</th>\n",
       "      <td>wine</td>\n",
       "      <td>cheese</td>\n",
       "      <td>None</td>\n",
       "      <td>None</td>\n",
       "      <td>None</td>\n",
       "    </tr>\n",
       "    <tr>\n",
       "      <th>17</th>\n",
       "      <td>beer</td>\n",
       "      <td>potato chips</td>\n",
       "      <td>None</td>\n",
       "      <td>None</td>\n",
       "      <td>None</td>\n",
       "    </tr>\n",
       "    <tr>\n",
       "      <th>18</th>\n",
       "      <td>wine</td>\n",
       "      <td>cheese</td>\n",
       "      <td>None</td>\n",
       "      <td>None</td>\n",
       "      <td>None</td>\n",
       "    </tr>\n",
       "    <tr>\n",
       "      <th>19</th>\n",
       "      <td>beer</td>\n",
       "      <td>potato chips</td>\n",
       "      <td>None</td>\n",
       "      <td>None</td>\n",
       "      <td>None</td>\n",
       "    </tr>\n",
       "  </tbody>\n",
       "</table>\n",
       "</div>"
      ],
      "text/plain": [
       "               0             1             2       3             4\n",
       "0           beer          wine        cheese    None          None\n",
       "1           beer  potato chips          None    None          None\n",
       "2           eggs        flower        butter  cheese          None\n",
       "3           eggs        flower        butter    beer  potato chips\n",
       "4           wine        cheese          None    None          None\n",
       "5   potato chips          None          None    None          None\n",
       "6           eggs        flower        butter    wine        cheese\n",
       "7           eggs        flower        butter    beer  potato chips\n",
       "8           wine          beer          None    None          None\n",
       "9           beer  potato chips          None    None          None\n",
       "10        butter          eggs          None    None          None\n",
       "11          beer  potato chips          None    None          None\n",
       "12        flower          eggs          None    None          None\n",
       "13          beer  potato chips          None    None          None\n",
       "14          eggs        flower        butter    wine        cheese\n",
       "15          beer          wine  potato chips  cheese          None\n",
       "16          wine        cheese          None    None          None\n",
       "17          beer  potato chips          None    None          None\n",
       "18          wine        cheese          None    None          None\n",
       "19          beer  potato chips          None    None          None"
      ]
     },
     "execution_count": 2,
     "metadata": {},
     "output_type": "execute_result"
    }
   ],
   "source": [
    "\n",
    "import pandas as pd\n",
    "\n",
    "# you simply convert the transaction list into a dataframe\n",
    "data = pd.DataFrame(transactions)\n",
    "data"
   ]
  },
  {
   "cell_type": "code",
   "execution_count": 3,
   "id": "3143b504-e5c5-4cb8-9739-e5decf34a11e",
   "metadata": {},
   "outputs": [],
   "source": [
    "\n",
    "# we are looking for itemSETS\n",
    "# we do not want to have any individual products returned\n",
    "min_n_products = 2\n",
    "\n",
    "# we want to set min support to 7\n",
    "# but we have to express it as a percentage\n",
    "min_support = 7/len(transactions)\n",
    "\n",
    "# we have no limit on the size of association rules\n",
    "# so we set it to the longest transaction\n",
    "max_length = max([len(x) for x in transactions])"
   ]
  },
  {
   "cell_type": "code",
   "execution_count": 5,
   "id": "52cab193-6e72-4e22-8218-46d7d075556a",
   "metadata": {},
   "outputs": [
    {
     "name": "stderr",
     "output_type": "stream",
     "text": [
      "100%|███████████████████████████████████████████████████████████████████████████████████████████████████████████████████████████████████████████████████████████████████████████████████████████████████████████████████████| 8/8 [00:00<00:00, 1494.96it/s]\n",
      "100%|█████████████████████████████████████████████████████████████████████████████████████████████████████████████████████████████████████████████████████████████████████████████████████████████████████████████████████| 8/8 [00:00<00:00, 111476.52it/s]\n",
      "100%|███████████████████████████████████████████████████████████████████████████████████████████████████████████████████████████████████████████████████████████████████████████████████████████████████████████████████████| 8/8 [00:00<00:00, 2658.62it/s]\n"
     ]
    },
    {
     "name": "stdout",
     "output_type": "stream",
     "text": [
      "Combination 2 by 2\n"
     ]
    },
    {
     "name": "stderr",
     "output_type": "stream",
     "text": [
      "10it [00:00, 630.08it/s]\n"
     ]
    },
    {
     "name": "stdout",
     "output_type": "stream",
     "text": [
      "Combination 3 by 3\n"
     ]
    },
    {
     "name": "stderr",
     "output_type": "stream",
     "text": [
      "10it [00:00, 963.88it/s]\n"
     ]
    },
    {
     "name": "stdout",
     "output_type": "stream",
     "text": [
      "Combination 4 by 4\n"
     ]
    },
    {
     "name": "stderr",
     "output_type": "stream",
     "text": [
      "5it [00:00, 836.65it/s]\n"
     ]
    },
    {
     "name": "stdout",
     "output_type": "stream",
     "text": [
      "Combination 5 by 5\n"
     ]
    },
    {
     "name": "stderr",
     "output_type": "stream",
     "text": [
      "1it [00:00, 575.03it/s]\n"
     ]
    }
   ],
   "source": [
    "from pyECLAT import ECLAT\n",
    "\n",
    "# create an instance of eclat\n",
    "my_eclat = ECLAT(data=data, verbose=True)\n",
    "\n",
    "# fit the algorithm\n",
    "rule_indices, rule_supports = my_eclat.fit(min_support=min_support,\n",
    "                                           min_combination=min_n_products,\n",
    "                                           max_combination=max_length)"
   ]
  },
  {
   "cell_type": "code",
   "execution_count": 6,
   "id": "c3b84db5-da5a-4b4b-9efb-da1b8cb0f521",
   "metadata": {},
   "outputs": [
    {
     "data": {
      "text/plain": [
       "{'cheese & wine': [0, 4, 6, 14, 15, 16, 18],\n",
       " 'beer & potato chips': [1, 3, 7, 9, 11, 13, 15, 17, 19]}"
      ]
     },
     "execution_count": 6,
     "metadata": {},
     "output_type": "execute_result"
    }
   ],
   "source": [
    "rule_indices"
   ]
  },
  {
   "cell_type": "code",
   "execution_count": 7,
   "id": "32ac8325-c2b4-47aa-8014-332235e2153e",
   "metadata": {},
   "outputs": [
    {
     "name": "stdout",
     "output_type": "stream",
     "text": [
      "{'cheese & wine': 0.35, 'beer & potato chips': 0.45}\n"
     ]
    }
   ],
   "source": [
    "\n",
    "print(rule_supports)"
   ]
  },
  {
   "cell_type": "markdown",
   "id": "264adca9-6a21-4dee-9245-08293d868cbc",
   "metadata": {},
   "source": [
    "#### Conclusion\n",
    "The Eclat algorithm is an efficient method for mining frequent itemsets in large and sparse transactional databases. By using a depth-first search strategy and intersection of transaction ID lists, Eclat can quickly identify frequent itemsets without the need for iterative candidate generation. This makes it particularly useful for applications requiring frequent pattern discovery in large datasets, such as market basket analysis and web usage mining. The provided Python implementation demonstrates how to apply the Eclat algorithm to a sample dataset, showcasing the identification of frequent itemsets based on a specified minimum support threshold."
   ]
  }
 ],
 "metadata": {
  "kernelspec": {
   "display_name": "Python 3 (ipykernel)",
   "language": "python",
   "name": "python3"
  },
  "language_info": {
   "codemirror_mode": {
    "name": "ipython",
    "version": 3
   },
   "file_extension": ".py",
   "mimetype": "text/x-python",
   "name": "python",
   "nbconvert_exporter": "python",
   "pygments_lexer": "ipython3",
   "version": "3.13.4"
  }
 },
 "nbformat": 4,
 "nbformat_minor": 5
}
